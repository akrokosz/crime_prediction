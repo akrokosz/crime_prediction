{
 "cells": [
  {
   "cell_type": "code",
   "execution_count": null,
   "id": "initial_id",
   "metadata": {
    "collapsed": true
   },
   "outputs": [],
   "source": [
    "import pandas as pd\n",
    "path1 = 'Datasets/communities.data'\n",
    "path2 = 'Datasets/communities.names'\n",
    "headers = []\n",
    "with open(path2, 'r') as file:\n",
    "    for line in file:\n",
    "        if line.startswith('@attribute'):\n",
    "            name = line.split()[1]\n",
    "            headers.append(name)\n",
    "print(headers)\n",
    "data = pd.read_csv(path1, sep=',', names=headers)\n",
    "data.drop('state', axis=1, inplace=True)\n",
    "data.drop('county', axis=1, inplace=True)\n",
    "data.drop('community', axis=1, inplace=True)\n",
    "data.drop('communityname', axis=1, inplace=True)\n",
    "data.drop('fold', axis=1, inplace=True)\n",
    "data.replace('?', pd.NA, inplace=True)\n",
    "data=data.dropna(subset=['OtherPerCap'])\n",
    "na_percentage = data.isna().mean()\n",
    "high_na_columns = na_percentage[na_percentage > 0].index.tolist()\n",
    "high_na_columns"
   ]
  },
  {
   "cell_type": "code",
   "execution_count": null,
   "outputs": [],
   "source": [
    "from sklearn.model_selection import GridSearchCV, train_test_split\n",
    "import numpy as np\n",
    "from sklearn.linear_model import Ridge\n",
    "from sklearn.metrics import mean_squared_error, mean_absolute_error, r2_score\n",
    "from sklearn.neighbors import KNeighborsRegressor\n",
    "from sklearn.ensemble import RandomForestRegressor\n",
    "from sklearn.tree import DecisionTreeRegressor\n",
    "import xgboost as xgb\n",
    "import warnings\n",
    "\n",
    "warnings.filterwarnings(\"ignore\")\n",
    "\n",
    "X_column = data.dropna()\n",
    "X_column = X_column.drop(high_na_columns, axis=1)\n",
    "X_column = X_column.values.astype(np.float32)\n",
    "\n",
    "columns_grids = {}\n",
    "best_preds = {}\n",
    "i = 1\n",
    "for column in high_na_columns:\n",
    "    y_column = data.loc[:, data.columns == column]\n",
    "    y_column = y_column.dropna()\n",
    "    y_column = y_column.values.astype(np.float32)\n",
    "\n",
    "    X_train_column, X_test_column, y_train_column, y_test_column = train_test_split(X_column, y_column, test_size=0.25,\n",
    "                                                                                    random_state=42)\n",
    "\n",
    "    estimators = [KNeighborsRegressor()  , xgb.XGBRegressor()\n",
    "        , RandomForestRegressor(), DecisionTreeRegressor(), Ridge()]\n",
    "\n",
    "    print(i, \"\\t\", column)\n",
    "    grids = {}\n",
    "    preds = {}\n",
    "    for estimator in estimators:\n",
    "        hyperparam_space = {\n",
    "            'criterion': ['squared_error', 'friedman_mse', 'absolute_error', 'poisson_loss'],\n",
    "            'max_depth': [1, 5, 10, 15, 20, 25, 30, 35, 100, 110, 190, 200, 210, None]\n",
    "        }\n",
    "\n",
    "        if estimator.__class__ in [KNeighborsRegressor().__class__, Ridge().__class__, ]:\n",
    "            hyperparam_space = {\n",
    "\n",
    "            }\n",
    "\n",
    "        gridsearch_column: GridSearchCV = GridSearchCV(\n",
    "            estimator,\n",
    "            hyperparam_space,\n",
    "            scoring='neg_mean_squared_error',\n",
    "            n_jobs=-1,\n",
    "            verbose = 0\n",
    "        )\n",
    "\n",
    "        gridsearch_column.fit(X_train_column, y_train_column)\n",
    "\n",
    "        model_column = gridsearch_column.best_estimator_\n",
    "        y_pred_column = model_column.predict(X_test_column)\n",
    "        mse_column = mean_squared_error(y_test_column, y_pred_column)\n",
    "        mae_column = mean_absolute_error(y_test_column, y_pred_column)\n",
    "        r2_column = r2_score(y_test_column, y_pred_column)\n",
    "\n",
    "        preds[gridsearch_column] = y_pred_column\n",
    "        grids[mse_column] = gridsearch_column\n",
    "    best_mse = min(grids.keys())\n",
    "    best_grid = grids[best_mse]\n",
    "    y_pred_column = preds[best_grid]\n",
    "    best_preds[column] = y_pred_column\n",
    "    columns_grids[column] = (best_grid, best_mse)\n",
    "    print(i, \"\\t\", column)\n",
    "    print(str(best_grid.best_estimator_.__class__))\n",
    "    print('Best parameters:', best_grid.best_params_)\n",
    "    mse_column =  mean_squared_error(y_test_column, y_pred_column)\n",
    "    mae_column = mean_absolute_error(y_test_column, y_pred_column)\n",
    "    r2_column  =            r2_score(y_test_column, y_pred_column)\n",
    "    print(f\"MSE: {mse_column}\")\n",
    "    print(f\"MAE: {mae_column}\")\n",
    "    print(f\"R^2 score: {r2_column}\")\n",
    "    i += 1"
   ],
   "metadata": {
    "collapsed": false
   },
   "id": "8ac353fb6ec4fd90"
  },
  {
   "cell_type": "code",
   "execution_count": null,
   "outputs": [],
   "source": [
    "from copy import copy\n",
    "good_enough = {column: grid for column, (grid, mse) in columns_grids.items() if mse < 0.2}\n",
    "column_na_model = {column: None for column in high_na_columns}\n",
    "column_na_model.update(good_enough)\n",
    "\n",
    "X_column_na = data.drop(high_na_columns, axis=1)\n",
    "X_column_na = X_column_na.dropna()\n",
    "X_column_na = X_column_na.values.astype(np.float32)\n",
    "\n",
    "data_fillna = copy(data)\n",
    "for column, grid in column_na_model.items():\n",
    "    print(column)\n",
    "    if grid is not None:\n",
    "        y_column = data.loc[:, data.columns == column]\n",
    "        y_column = y_column.dropna()\n",
    "        y_column = y_column.values.astype(np.float32)\n",
    "        grid.best_estimator_.fit(X_column, y_column)"
   ],
   "metadata": {
    "collapsed": false
   },
   "id": "83697c0298d1b13a"
  },
  {
   "cell_type": "code",
   "execution_count": null,
   "outputs": [],
   "source": [
    "for column, model in column_na_model.items():\n",
    "    if column in data_fillna.columns:\n",
    "        if model is not None:\n",
    "            rows_with_na = data_fillna[data_fillna[column].isna()]\n",
    "            for index, row in rows_with_na.iterrows():\n",
    "                features = row.drop(high_na_columns)\n",
    "                predicted_value = model.predict(features.values.reshape(1, -1))\n",
    "                data_fillna.at[index, column] = predicted_value\n",
    "        else:\n",
    "            data_fillna = data_fillna.drop(column, axis=1)"
   ],
   "metadata": {
    "collapsed": false
   },
   "id": "3f88747e5543149a"
  },
  {
   "cell_type": "code",
   "execution_count": null,
   "outputs": [],
   "source": [
    "data_fillna.to_csv('data_fillna.csv', index=False)\n",
    "data_fillna.head(10)"
   ],
   "metadata": {
    "collapsed": false
   },
   "id": "9b0b0d6ef616469d"
  },
  {
   "cell_type": "code",
   "execution_count": null,
   "outputs": [],
   "source": [
    "import pandas as pd\n",
    "path_fillna = 'data_fillna.csv'\n",
    "data_fillna = pd.read_csv(path_fillna, sep=',')\n",
    "data_fillna"
   ],
   "metadata": {
    "collapsed": false
   },
   "id": "ced6e8e915f35692"
  },
  {
   "cell_type": "code",
   "execution_count": null,
   "outputs": [],
   "source": [
    "def convert_to_float(value):\n",
    "    if isinstance(value, str):\n",
    "        if \"[[\" in value and \"]]\" in value:\n",
    "            return value[2:-2]\n",
    "    else:\n",
    "        return value\n",
    "data_fillna=data_fillna.dropna()\n",
    "data_fillna=data_fillna.applymap(convert_to_float)\n",
    "data_fillna=data_fillna.astype(np.float32)\n",
    "data_fillna"
   ],
   "metadata": {
    "collapsed": false
   },
   "id": "e7e8903371d53919"
  },
  {
   "cell_type": "code",
   "execution_count": null,
   "outputs": [],
   "source": [
    "import numpy as np\n",
    "\n",
    "X_fillna = data_fillna.iloc[:, :-1].values.astype(np.float32)\n",
    "y_fillna = data_fillna.iloc[:, -1].values.astype(np.float32)\n",
    "\n",
    "from sklearn.model_selection import train_test_split\n",
    "\n",
    "X_train_fillna, X_test_fillna, y_train_fillna, y_test_fillna = train_test_split(X_fillna, y_fillna, test_size=0.25, random_state=42)\n",
    "X_train_fillna"
   ],
   "metadata": {
    "collapsed": false
   },
   "id": "dfd6870ea5ff75db"
  },
  {
   "cell_type": "code",
   "execution_count": null,
   "outputs": [],
   "source": [
    "import tensorflow as tf\n",
    "\n",
    "model_fillna = tf.keras.Sequential([\n",
    "    tf.keras.layers.Dense(X_train_fillna.shape[0], input_shape=(X_train_fillna.shape[1],)),\n",
    "    tf.keras.layers.Dropout(0.5),\n",
    "    tf.keras.layers.Dense(int(X_train_fillna.shape[0] * 1 / 2)),\n",
    "    tf.keras.layers.Dropout(0.5),\n",
    "    tf.keras.layers.Dense(1)#,\n",
    "   \n",
    "])\n",
    "\n",
    "from keras.optimizers.schedules import ExponentialDecay\n",
    "\n",
    "initial_learning_rate = 0.0001\n",
    "lr_schedule = ExponentialDecay(\n",
    "    initial_learning_rate, decay_steps=10000, decay_rate=0.9, staircase=True\n",
    ")\n",
    "\n",
    "model_fillna"
   ],
   "metadata": {
    "collapsed": false
   },
   "id": "ddab00837ec1f004"
  },
  {
   "cell_type": "code",
   "execution_count": null,
   "outputs": [],
   "source": [
    "optimizer = tf.keras.optimizers.Adamax(learning_rate=lr_schedule)\n",
    "model_fillna.compile(optimizer=optimizer, loss='mse', metrics=['mae'])\n",
    "model_fillna.fit(X_train_fillna, y_train_fillna, epochs=3000, batch_size=X_train_fillna.shape[0],\n",
    "                 validation_data=(X_test_fillna, y_test_fillna))"
   ],
   "metadata": {
    "collapsed": false
   },
   "id": "516837020987ea43"
  },
  {
   "cell_type": "code",
   "execution_count": null,
   "outputs": [],
   "source": [
    "optimizer = tf.keras.optimizers.Adamax(learning_rate=lr_schedule)\n",
    "model_fillna.compile(optimizer=optimizer, loss='mse', metrics=['mae'])\n",
    "model_fillna.fit(X_train_fillna, y_train_fillna, epochs=3000, batch_size=int(X_train_fillna.shape[0]/2),\n",
    "                 validation_data=(X_test_fillna, y_test_fillna))"
   ],
   "metadata": {
    "collapsed": false
   },
   "id": "e61f14f4e0c4e3cb"
  },
  {
   "cell_type": "code",
   "execution_count": null,
   "outputs": [],
   "source": [
    "optimizer = tf.keras.optimizers.Adamax(learning_rate=lr_schedule)\n",
    "model_fillna.compile(optimizer=optimizer, loss='mse', metrics=['mae'])\n",
    "model_fillna.fit(X_train_fillna, y_train_fillna, epochs=3000, batch_size=int(X_train_fillna.shape[0]/5),\n",
    "                 validation_data=(X_test_fillna, y_test_fillna))"
   ],
   "metadata": {
    "collapsed": false
   },
   "id": "df214bbee097e9e2"
  },
  {
   "cell_type": "code",
   "execution_count": null,
   "outputs": [],
   "source": [
    "optimizer = tf.keras.optimizers.Adamax(learning_rate=lr_schedule)\n",
    "model_fillna.compile(optimizer=optimizer, loss='mse', metrics=['mae'])\n",
    "model_fillna.fit(X_train_fillna, y_train_fillna, epochs=3000, batch_size=int(X_train_fillna.shape[0]/10),\n",
    "                 validation_data=(X_test_fillna, y_test_fillna))"
   ],
   "metadata": {
    "collapsed": false
   },
   "id": "176837de1b6d17fe"
  },
  {
   "cell_type": "code",
   "execution_count": null,
   "outputs": [],
   "source": [
    "from sklearn.metrics import mean_squared_error, mean_absolute_error, r2_score\n",
    "\n",
    "y_pred_fillna = model_fillna.predict(X_test_fillna)\n",
    "mse_fillna = mean_squared_error(y_test_fillna, y_pred_fillna)\n",
    "mae_fillna = mean_absolute_error(y_test_fillna, y_pred_fillna)\n",
    "r2_fillna = r2_score(y_test_fillna, y_pred_fillna)\n",
    "\n",
    "print(y_pred_fillna)\n",
    "print(y_test_fillna)\n",
    "print(\"\\n\")\n",
    "print(f\"MSE: {mse_fillna}\")\n",
    "print(f\"MAE: {mae_fillna}\")\n",
    "print(f\"R^2 score: {r2_fillna}\")"
   ],
   "metadata": {
    "collapsed": false
   },
   "id": "e3f5d208b3c7888f"
  }
 ],
 "metadata": {
  "kernelspec": {
   "display_name": "Python 3",
   "language": "python",
   "name": "python3"
  },
  "language_info": {
   "codemirror_mode": {
    "name": "ipython",
    "version": 2
   },
   "file_extension": ".py",
   "mimetype": "text/x-python",
   "name": "python",
   "nbconvert_exporter": "python",
   "pygments_lexer": "ipython2",
   "version": "2.7.6"
  }
 },
 "nbformat": 4,
 "nbformat_minor": 5
}
